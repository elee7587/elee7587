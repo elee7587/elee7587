{
  "cells": [
    {
      "cell_type": "markdown",
      "metadata": {
        "id": "view-in-github",
        "colab_type": "text"
      },
      "source": [
        "<a href=\"https://colab.research.google.com/github/elee7587/elee7587/blob/main/RECENT_hallway_till_45_nov18_(1).ipynb\" target=\"_parent\"><img src=\"https://colab.research.google.com/assets/colab-badge.svg\" alt=\"Open In Colab\"/></a>"
      ]
    },
    {
      "cell_type": "code",
      "execution_count": null,
      "metadata": {
        "id": "l_whKh7pTSZX",
        "colab": {
          "base_uri": "https://localhost:8080/",
          "height": 73
        },
        "outputId": "5b341ae2-f97e-418b-fa0c-ef33dc148ddf"
      },
      "outputs": [
        {
          "output_type": "display_data",
          "data": {
            "text/plain": [
              "<IPython.core.display.HTML object>"
            ],
            "text/html": [
              "\n",
              "     <input type=\"file\" id=\"files-1b4bddce-e549-42da-9fca-6bd9df21e1c0\" name=\"files[]\" multiple disabled\n",
              "        style=\"border:none\" />\n",
              "     <output id=\"result-1b4bddce-e549-42da-9fca-6bd9df21e1c0\">\n",
              "      Upload widget is only available when the cell has been executed in the\n",
              "      current browser session. Please rerun this cell to enable.\n",
              "      </output>\n",
              "      <script>// Copyright 2017 Google LLC\n",
              "//\n",
              "// Licensed under the Apache License, Version 2.0 (the \"License\");\n",
              "// you may not use this file except in compliance with the License.\n",
              "// You may obtain a copy of the License at\n",
              "//\n",
              "//      http://www.apache.org/licenses/LICENSE-2.0\n",
              "//\n",
              "// Unless required by applicable law or agreed to in writing, software\n",
              "// distributed under the License is distributed on an \"AS IS\" BASIS,\n",
              "// WITHOUT WARRANTIES OR CONDITIONS OF ANY KIND, either express or implied.\n",
              "// See the License for the specific language governing permissions and\n",
              "// limitations under the License.\n",
              "\n",
              "/**\n",
              " * @fileoverview Helpers for google.colab Python module.\n",
              " */\n",
              "(function(scope) {\n",
              "function span(text, styleAttributes = {}) {\n",
              "  const element = document.createElement('span');\n",
              "  element.textContent = text;\n",
              "  for (const key of Object.keys(styleAttributes)) {\n",
              "    element.style[key] = styleAttributes[key];\n",
              "  }\n",
              "  return element;\n",
              "}\n",
              "\n",
              "// Max number of bytes which will be uploaded at a time.\n",
              "const MAX_PAYLOAD_SIZE = 100 * 1024;\n",
              "\n",
              "function _uploadFiles(inputId, outputId) {\n",
              "  const steps = uploadFilesStep(inputId, outputId);\n",
              "  const outputElement = document.getElementById(outputId);\n",
              "  // Cache steps on the outputElement to make it available for the next call\n",
              "  // to uploadFilesContinue from Python.\n",
              "  outputElement.steps = steps;\n",
              "\n",
              "  return _uploadFilesContinue(outputId);\n",
              "}\n",
              "\n",
              "// This is roughly an async generator (not supported in the browser yet),\n",
              "// where there are multiple asynchronous steps and the Python side is going\n",
              "// to poll for completion of each step.\n",
              "// This uses a Promise to block the python side on completion of each step,\n",
              "// then passes the result of the previous step as the input to the next step.\n",
              "function _uploadFilesContinue(outputId) {\n",
              "  const outputElement = document.getElementById(outputId);\n",
              "  const steps = outputElement.steps;\n",
              "\n",
              "  const next = steps.next(outputElement.lastPromiseValue);\n",
              "  return Promise.resolve(next.value.promise).then((value) => {\n",
              "    // Cache the last promise value to make it available to the next\n",
              "    // step of the generator.\n",
              "    outputElement.lastPromiseValue = value;\n",
              "    return next.value.response;\n",
              "  });\n",
              "}\n",
              "\n",
              "/**\n",
              " * Generator function which is called between each async step of the upload\n",
              " * process.\n",
              " * @param {string} inputId Element ID of the input file picker element.\n",
              " * @param {string} outputId Element ID of the output display.\n",
              " * @return {!Iterable<!Object>} Iterable of next steps.\n",
              " */\n",
              "function* uploadFilesStep(inputId, outputId) {\n",
              "  const inputElement = document.getElementById(inputId);\n",
              "  inputElement.disabled = false;\n",
              "\n",
              "  const outputElement = document.getElementById(outputId);\n",
              "  outputElement.innerHTML = '';\n",
              "\n",
              "  const pickedPromise = new Promise((resolve) => {\n",
              "    inputElement.addEventListener('change', (e) => {\n",
              "      resolve(e.target.files);\n",
              "    });\n",
              "  });\n",
              "\n",
              "  const cancel = document.createElement('button');\n",
              "  inputElement.parentElement.appendChild(cancel);\n",
              "  cancel.textContent = 'Cancel upload';\n",
              "  const cancelPromise = new Promise((resolve) => {\n",
              "    cancel.onclick = () => {\n",
              "      resolve(null);\n",
              "    };\n",
              "  });\n",
              "\n",
              "  // Wait for the user to pick the files.\n",
              "  const files = yield {\n",
              "    promise: Promise.race([pickedPromise, cancelPromise]),\n",
              "    response: {\n",
              "      action: 'starting',\n",
              "    }\n",
              "  };\n",
              "\n",
              "  cancel.remove();\n",
              "\n",
              "  // Disable the input element since further picks are not allowed.\n",
              "  inputElement.disabled = true;\n",
              "\n",
              "  if (!files) {\n",
              "    return {\n",
              "      response: {\n",
              "        action: 'complete',\n",
              "      }\n",
              "    };\n",
              "  }\n",
              "\n",
              "  for (const file of files) {\n",
              "    const li = document.createElement('li');\n",
              "    li.append(span(file.name, {fontWeight: 'bold'}));\n",
              "    li.append(span(\n",
              "        `(${file.type || 'n/a'}) - ${file.size} bytes, ` +\n",
              "        `last modified: ${\n",
              "            file.lastModifiedDate ? file.lastModifiedDate.toLocaleDateString() :\n",
              "                                    'n/a'} - `));\n",
              "    const percent = span('0% done');\n",
              "    li.appendChild(percent);\n",
              "\n",
              "    outputElement.appendChild(li);\n",
              "\n",
              "    const fileDataPromise = new Promise((resolve) => {\n",
              "      const reader = new FileReader();\n",
              "      reader.onload = (e) => {\n",
              "        resolve(e.target.result);\n",
              "      };\n",
              "      reader.readAsArrayBuffer(file);\n",
              "    });\n",
              "    // Wait for the data to be ready.\n",
              "    let fileData = yield {\n",
              "      promise: fileDataPromise,\n",
              "      response: {\n",
              "        action: 'continue',\n",
              "      }\n",
              "    };\n",
              "\n",
              "    // Use a chunked sending to avoid message size limits. See b/62115660.\n",
              "    let position = 0;\n",
              "    do {\n",
              "      const length = Math.min(fileData.byteLength - position, MAX_PAYLOAD_SIZE);\n",
              "      const chunk = new Uint8Array(fileData, position, length);\n",
              "      position += length;\n",
              "\n",
              "      const base64 = btoa(String.fromCharCode.apply(null, chunk));\n",
              "      yield {\n",
              "        response: {\n",
              "          action: 'append',\n",
              "          file: file.name,\n",
              "          data: base64,\n",
              "        },\n",
              "      };\n",
              "\n",
              "      let percentDone = fileData.byteLength === 0 ?\n",
              "          100 :\n",
              "          Math.round((position / fileData.byteLength) * 100);\n",
              "      percent.textContent = `${percentDone}% done`;\n",
              "\n",
              "    } while (position < fileData.byteLength);\n",
              "  }\n",
              "\n",
              "  // All done.\n",
              "  yield {\n",
              "    response: {\n",
              "      action: 'complete',\n",
              "    }\n",
              "  };\n",
              "}\n",
              "\n",
              "scope.google = scope.google || {};\n",
              "scope.google.colab = scope.google.colab || {};\n",
              "scope.google.colab._files = {\n",
              "  _uploadFiles,\n",
              "  _uploadFilesContinue,\n",
              "};\n",
              "})(self);\n",
              "</script> "
            ]
          },
          "metadata": {}
        },
        {
          "output_type": "stream",
          "name": "stdout",
          "text": [
            "Saving big_file.CSV to big_file.CSV\n"
          ]
        }
      ],
      "source": [
        "import pandas as pd\n",
        "import numpy as np\n",
        "import matplotlib.pyplot as plt\n",
        "from google.colab import files\n",
        "uploaded = files.upload()"
      ]
    },
    {
      "cell_type": "code",
      "execution_count": null,
      "metadata": {
        "id": "4C3QRSTrTSZa",
        "outputId": "6bf63b60-251d-4eac-d194-d19bfeca2393",
        "colab": {
          "base_uri": "https://localhost:8080/",
          "height": 424
        }
      },
      "outputs": [
        {
          "output_type": "execute_result",
          "data": {
            "text/plain": [
              "       index_  Counter_    Sensor_0    Sensor_1    Sensor_2    Sensor_3  \\\n",
              "0           1     16723  998.759766  998.683533  998.589050  998.740540   \n",
              "1           2     16931  998.758667  998.683533  998.584839  998.739990   \n",
              "2           3     17139  998.756775  998.681030  998.587097  998.739441   \n",
              "3           4     17346  998.760681  998.683655  998.588806  998.739441   \n",
              "4           5     17554  998.756897  998.684631  998.585144  998.739624   \n",
              "...       ...       ...         ...         ...         ...         ...   \n",
              "16326   16327   3421704  998.525696  998.437134  998.340210  998.491638   \n",
              "16327   16328   3421912  998.525330  998.436768  998.338501  998.493225   \n",
              "16328   16329   3422120  998.523254  998.436157  998.338257  998.494141   \n",
              "16329   16330   3422328  998.522095  998.434692  998.339539  998.494080   \n",
              "16330   16331   3422536  998.522583  998.435547  998.339478  998.494202   \n",
              "\n",
              "         Sensor_4    Sensor_5    Sensor_6   Voltage  \n",
              "0      998.875366  998.718933  998.668762  1.539624  \n",
              "1      998.872681  998.717651  998.668518  1.471143  \n",
              "2      998.875549  998.717712  998.667236  1.441333  \n",
              "3      998.876343  998.717529  998.669373  1.436499  \n",
              "4      998.876099  998.717529  998.668213  1.421997  \n",
              "...           ...         ...         ...       ...  \n",
              "16326  998.628174  998.474792  998.426941  1.378491  \n",
              "16327  998.628662  998.476746  998.427979  1.406689  \n",
              "16328  998.629700  998.474976  998.425598  1.414746  \n",
              "16329  998.628723  998.474304  998.425537  1.407495  \n",
              "16330  998.629944  998.476501  998.427185  0.003223  \n",
              "\n",
              "[16331 rows x 10 columns]"
            ],
            "text/html": [
              "\n",
              "  <div id=\"df-10bdc64c-331c-41fe-ad93-49d5cbdaff50\">\n",
              "    <div class=\"colab-df-container\">\n",
              "      <div>\n",
              "<style scoped>\n",
              "    .dataframe tbody tr th:only-of-type {\n",
              "        vertical-align: middle;\n",
              "    }\n",
              "\n",
              "    .dataframe tbody tr th {\n",
              "        vertical-align: top;\n",
              "    }\n",
              "\n",
              "    .dataframe thead th {\n",
              "        text-align: right;\n",
              "    }\n",
              "</style>\n",
              "<table border=\"1\" class=\"dataframe\">\n",
              "  <thead>\n",
              "    <tr style=\"text-align: right;\">\n",
              "      <th></th>\n",
              "      <th>index_</th>\n",
              "      <th>Counter_</th>\n",
              "      <th>Sensor_0</th>\n",
              "      <th>Sensor_1</th>\n",
              "      <th>Sensor_2</th>\n",
              "      <th>Sensor_3</th>\n",
              "      <th>Sensor_4</th>\n",
              "      <th>Sensor_5</th>\n",
              "      <th>Sensor_6</th>\n",
              "      <th>Voltage</th>\n",
              "    </tr>\n",
              "  </thead>\n",
              "  <tbody>\n",
              "    <tr>\n",
              "      <th>0</th>\n",
              "      <td>1</td>\n",
              "      <td>16723</td>\n",
              "      <td>998.759766</td>\n",
              "      <td>998.683533</td>\n",
              "      <td>998.589050</td>\n",
              "      <td>998.740540</td>\n",
              "      <td>998.875366</td>\n",
              "      <td>998.718933</td>\n",
              "      <td>998.668762</td>\n",
              "      <td>1.539624</td>\n",
              "    </tr>\n",
              "    <tr>\n",
              "      <th>1</th>\n",
              "      <td>2</td>\n",
              "      <td>16931</td>\n",
              "      <td>998.758667</td>\n",
              "      <td>998.683533</td>\n",
              "      <td>998.584839</td>\n",
              "      <td>998.739990</td>\n",
              "      <td>998.872681</td>\n",
              "      <td>998.717651</td>\n",
              "      <td>998.668518</td>\n",
              "      <td>1.471143</td>\n",
              "    </tr>\n",
              "    <tr>\n",
              "      <th>2</th>\n",
              "      <td>3</td>\n",
              "      <td>17139</td>\n",
              "      <td>998.756775</td>\n",
              "      <td>998.681030</td>\n",
              "      <td>998.587097</td>\n",
              "      <td>998.739441</td>\n",
              "      <td>998.875549</td>\n",
              "      <td>998.717712</td>\n",
              "      <td>998.667236</td>\n",
              "      <td>1.441333</td>\n",
              "    </tr>\n",
              "    <tr>\n",
              "      <th>3</th>\n",
              "      <td>4</td>\n",
              "      <td>17346</td>\n",
              "      <td>998.760681</td>\n",
              "      <td>998.683655</td>\n",
              "      <td>998.588806</td>\n",
              "      <td>998.739441</td>\n",
              "      <td>998.876343</td>\n",
              "      <td>998.717529</td>\n",
              "      <td>998.669373</td>\n",
              "      <td>1.436499</td>\n",
              "    </tr>\n",
              "    <tr>\n",
              "      <th>4</th>\n",
              "      <td>5</td>\n",
              "      <td>17554</td>\n",
              "      <td>998.756897</td>\n",
              "      <td>998.684631</td>\n",
              "      <td>998.585144</td>\n",
              "      <td>998.739624</td>\n",
              "      <td>998.876099</td>\n",
              "      <td>998.717529</td>\n",
              "      <td>998.668213</td>\n",
              "      <td>1.421997</td>\n",
              "    </tr>\n",
              "    <tr>\n",
              "      <th>...</th>\n",
              "      <td>...</td>\n",
              "      <td>...</td>\n",
              "      <td>...</td>\n",
              "      <td>...</td>\n",
              "      <td>...</td>\n",
              "      <td>...</td>\n",
              "      <td>...</td>\n",
              "      <td>...</td>\n",
              "      <td>...</td>\n",
              "      <td>...</td>\n",
              "    </tr>\n",
              "    <tr>\n",
              "      <th>16326</th>\n",
              "      <td>16327</td>\n",
              "      <td>3421704</td>\n",
              "      <td>998.525696</td>\n",
              "      <td>998.437134</td>\n",
              "      <td>998.340210</td>\n",
              "      <td>998.491638</td>\n",
              "      <td>998.628174</td>\n",
              "      <td>998.474792</td>\n",
              "      <td>998.426941</td>\n",
              "      <td>1.378491</td>\n",
              "    </tr>\n",
              "    <tr>\n",
              "      <th>16327</th>\n",
              "      <td>16328</td>\n",
              "      <td>3421912</td>\n",
              "      <td>998.525330</td>\n",
              "      <td>998.436768</td>\n",
              "      <td>998.338501</td>\n",
              "      <td>998.493225</td>\n",
              "      <td>998.628662</td>\n",
              "      <td>998.476746</td>\n",
              "      <td>998.427979</td>\n",
              "      <td>1.406689</td>\n",
              "    </tr>\n",
              "    <tr>\n",
              "      <th>16328</th>\n",
              "      <td>16329</td>\n",
              "      <td>3422120</td>\n",
              "      <td>998.523254</td>\n",
              "      <td>998.436157</td>\n",
              "      <td>998.338257</td>\n",
              "      <td>998.494141</td>\n",
              "      <td>998.629700</td>\n",
              "      <td>998.474976</td>\n",
              "      <td>998.425598</td>\n",
              "      <td>1.414746</td>\n",
              "    </tr>\n",
              "    <tr>\n",
              "      <th>16329</th>\n",
              "      <td>16330</td>\n",
              "      <td>3422328</td>\n",
              "      <td>998.522095</td>\n",
              "      <td>998.434692</td>\n",
              "      <td>998.339539</td>\n",
              "      <td>998.494080</td>\n",
              "      <td>998.628723</td>\n",
              "      <td>998.474304</td>\n",
              "      <td>998.425537</td>\n",
              "      <td>1.407495</td>\n",
              "    </tr>\n",
              "    <tr>\n",
              "      <th>16330</th>\n",
              "      <td>16331</td>\n",
              "      <td>3422536</td>\n",
              "      <td>998.522583</td>\n",
              "      <td>998.435547</td>\n",
              "      <td>998.339478</td>\n",
              "      <td>998.494202</td>\n",
              "      <td>998.629944</td>\n",
              "      <td>998.476501</td>\n",
              "      <td>998.427185</td>\n",
              "      <td>0.003223</td>\n",
              "    </tr>\n",
              "  </tbody>\n",
              "</table>\n",
              "<p>16331 rows × 10 columns</p>\n",
              "</div>\n",
              "      <button class=\"colab-df-convert\" onclick=\"convertToInteractive('df-10bdc64c-331c-41fe-ad93-49d5cbdaff50')\"\n",
              "              title=\"Convert this dataframe to an interactive table.\"\n",
              "              style=\"display:none;\">\n",
              "        \n",
              "  <svg xmlns=\"http://www.w3.org/2000/svg\" height=\"24px\"viewBox=\"0 0 24 24\"\n",
              "       width=\"24px\">\n",
              "    <path d=\"M0 0h24v24H0V0z\" fill=\"none\"/>\n",
              "    <path d=\"M18.56 5.44l.94 2.06.94-2.06 2.06-.94-2.06-.94-.94-2.06-.94 2.06-2.06.94zm-11 1L8.5 8.5l.94-2.06 2.06-.94-2.06-.94L8.5 2.5l-.94 2.06-2.06.94zm10 10l.94 2.06.94-2.06 2.06-.94-2.06-.94-.94-2.06-.94 2.06-2.06.94z\"/><path d=\"M17.41 7.96l-1.37-1.37c-.4-.4-.92-.59-1.43-.59-.52 0-1.04.2-1.43.59L10.3 9.45l-7.72 7.72c-.78.78-.78 2.05 0 2.83L4 21.41c.39.39.9.59 1.41.59.51 0 1.02-.2 1.41-.59l7.78-7.78 2.81-2.81c.8-.78.8-2.07 0-2.86zM5.41 20L4 18.59l7.72-7.72 1.47 1.35L5.41 20z\"/>\n",
              "  </svg>\n",
              "      </button>\n",
              "      \n",
              "  <style>\n",
              "    .colab-df-container {\n",
              "      display:flex;\n",
              "      flex-wrap:wrap;\n",
              "      gap: 12px;\n",
              "    }\n",
              "\n",
              "    .colab-df-convert {\n",
              "      background-color: #E8F0FE;\n",
              "      border: none;\n",
              "      border-radius: 50%;\n",
              "      cursor: pointer;\n",
              "      display: none;\n",
              "      fill: #1967D2;\n",
              "      height: 32px;\n",
              "      padding: 0 0 0 0;\n",
              "      width: 32px;\n",
              "    }\n",
              "\n",
              "    .colab-df-convert:hover {\n",
              "      background-color: #E2EBFA;\n",
              "      box-shadow: 0px 1px 2px rgba(60, 64, 67, 0.3), 0px 1px 3px 1px rgba(60, 64, 67, 0.15);\n",
              "      fill: #174EA6;\n",
              "    }\n",
              "\n",
              "    [theme=dark] .colab-df-convert {\n",
              "      background-color: #3B4455;\n",
              "      fill: #D2E3FC;\n",
              "    }\n",
              "\n",
              "    [theme=dark] .colab-df-convert:hover {\n",
              "      background-color: #434B5C;\n",
              "      box-shadow: 0px 1px 3px 1px rgba(0, 0, 0, 0.15);\n",
              "      filter: drop-shadow(0px 1px 2px rgba(0, 0, 0, 0.3));\n",
              "      fill: #FFFFFF;\n",
              "    }\n",
              "  </style>\n",
              "\n",
              "      <script>\n",
              "        const buttonEl =\n",
              "          document.querySelector('#df-10bdc64c-331c-41fe-ad93-49d5cbdaff50 button.colab-df-convert');\n",
              "        buttonEl.style.display =\n",
              "          google.colab.kernel.accessAllowed ? 'block' : 'none';\n",
              "\n",
              "        async function convertToInteractive(key) {\n",
              "          const element = document.querySelector('#df-10bdc64c-331c-41fe-ad93-49d5cbdaff50');\n",
              "          const dataTable =\n",
              "            await google.colab.kernel.invokeFunction('convertToInteractive',\n",
              "                                                     [key], {});\n",
              "          if (!dataTable) return;\n",
              "\n",
              "          const docLinkHtml = 'Like what you see? Visit the ' +\n",
              "            '<a target=\"_blank\" href=https://colab.research.google.com/notebooks/data_table.ipynb>data table notebook</a>'\n",
              "            + ' to learn more about interactive tables.';\n",
              "          element.innerHTML = '';\n",
              "          dataTable['output_type'] = 'display_data';\n",
              "          await google.colab.output.renderOutput(dataTable, element);\n",
              "          const docLink = document.createElement('div');\n",
              "          docLink.innerHTML = docLinkHtml;\n",
              "          element.appendChild(docLink);\n",
              "        }\n",
              "      </script>\n",
              "    </div>\n",
              "  </div>\n",
              "  "
            ]
          },
          "metadata": {},
          "execution_count": 3
        }
      ],
      "source": [
        "df = pd.read_csv('big_file.CSV')\n",
        "df.rename(columns={'index':'index_','Counter':'Counter_', 'Sensor 0':'Sensor_0', 'Sensor 1': 'Sensor_1', 'Sensor 2': 'Sensor_2', 'Sensor 3': 'Sensor_3', 'Sensor 4': 'Sensor_4', 'Sensor 5': 'Sensor_5', 'Sensor 6': 'Sensor_6'}, inplace =True)\n",
        "df"
      ]
    },
    {
      "cell_type": "code",
      "execution_count": null,
      "metadata": {
        "id": "XgJHYmuGTSZc"
      },
      "outputs": [],
      "source": [
        "#df1 = df.rename(columns={'index': 'Counter_', 'Counter': 'Time_taken', 'Time' : 'Sensor_1', 'Sensor 1' : 'Sensor_2', 'Sensor 2' : 'Sensor_3', 'Sensor 3' : 'Null'})\n",
        "#df1"
      ]
    },
    {
      "cell_type": "code",
      "execution_count": null,
      "metadata": {
        "id": "0n4IngcKTSZd"
      },
      "outputs": [],
      "source": [
        "Sensor0 = df[['index_', 'Sensor_0']]\n",
        "Sensor1 = df[['index_', 'Sensor_1']]\n",
        "Sensor2 = df[['index_', 'Sensor_2']]\n",
        "Sensor3 = df[['index_', 'Sensor_3']]\n",
        "Sensor4 = df[['index_', 'Sensor_4']]\n",
        "Sensor5 = df[['index_', 'Sensor_5']]"
      ]
    },
    {
      "cell_type": "code",
      "source": [
        "Sen0_Sen1_pd_low = np.array([Sensor0['Sensor_0'].loc[625:775]-Sensor1['Sensor_1'].loc[625:775]])\n"
      ],
      "metadata": {
        "id": "vV0GQVwkj9Lj"
      },
      "execution_count": null,
      "outputs": []
    },
    {
      "cell_type": "code",
      "execution_count": null,
      "metadata": {
        "id": "vwvMrUPYTSZd"
      },
      "outputs": [],
      "source": [
        "##low speed\n",
        "s0p0_low = Sensor0['Sensor_0'].loc[625:775].mean()*100\n",
        "s0p5_low = Sensor0['Sensor_0'].loc[2700:2850].mean()*100\n",
        "s0p10_low = Sensor0['Sensor_0'].loc[4700:4840].mean()*100\n",
        "s0p15_low = Sensor0['Sensor_0'].loc[5900:6040].mean()*100\n",
        "s0p20_low = Sensor0['Sensor_0'].loc[7500:7660].mean()*100\n",
        "s0p25_low = Sensor0['Sensor_0'].loc[8550:8705].mean()*100\n",
        "s0p30_low = Sensor0['Sensor_0'].loc[9650:9800].mean()*100\n",
        "s0p35_low = Sensor0['Sensor_0'].loc[11350:11500].mean()*100\n",
        "s0p40_low = Sensor0['Sensor_0'].loc[13250:13400].mean()*100\n",
        "s0p45_low = Sensor0['Sensor_0'].loc[14850:14990].mean()*100\n",
        "\n",
        "s1p0_low = Sensor1['Sensor_1'].loc[625:775].mean()*100\n",
        "s1p5_low = Sensor1['Sensor_1'].loc[2700:2850].mean()*100\n",
        "s1p10_low = Sensor1['Sensor_1'].loc[4700:4840].mean()*100\n",
        "s1p15_low = Sensor1['Sensor_1'].loc[5900:6040].mean()*100\n",
        "s1p20_low = Sensor1['Sensor_1'].loc[7500:7660].mean()*100\n",
        "s1p25_low = Sensor1['Sensor_1'].loc[8550:8705].mean()*100\n",
        "s1p30_low = Sensor1['Sensor_1'].loc[9650:9800].mean()*100\n",
        "s1p35_low = Sensor1['Sensor_1'].loc[11350:11500].mean()*100\n",
        "s1p40_low = Sensor1['Sensor_1'].loc[13250:13400].mean()*100\n",
        "s1p45_low = Sensor1['Sensor_1'].loc[14850:14990].mean()*100\n",
        "\n",
        "s2p0_low = Sensor2['Sensor_2'].loc[625:775].mean()*100\n",
        "s2p5_low = Sensor2['Sensor_2'].loc[2700:2850].mean()*100\n",
        "s2p10_low = Sensor2['Sensor_2'].loc[4700:4840].mean()*100\n",
        "s2p15_low = Sensor2['Sensor_2'].loc[5900:6040].mean()*100\n",
        "s2p20_low = Sensor2['Sensor_2'].loc[7500:7660].mean()*100\n",
        "s2p25_low = Sensor2['Sensor_2'].loc[8550:8705].mean()*100\n",
        "s2p30_low = Sensor2['Sensor_2'].loc[9650:9800].mean()*100\n",
        "s2p35_low = Sensor2['Sensor_2'].loc[11350:11500].mean()*100\n",
        "s2p40_low = Sensor2['Sensor_2'].loc[13250:13400].mean()*100\n",
        "s2p45_low = Sensor2['Sensor_2'].loc[14850:14990].mean()*100\n",
        "\n",
        "s3p0_low = Sensor3['Sensor_3'].loc[625:775].mean()*100\n",
        "s3p5_low = Sensor3['Sensor_3'].loc[2700:2850].mean()*100\n",
        "s3p10_low = Sensor3['Sensor_3'].loc[4700:4840].mean()*100\n",
        "s3p15_low = Sensor3['Sensor_3'].loc[5900:6040].mean()*100\n",
        "s3p20_low = Sensor3['Sensor_3'].loc[7500:7660].mean()*100\n",
        "s3p25_low = Sensor3['Sensor_3'].loc[8550:8705].mean()*100\n",
        "s3p30_low = Sensor3['Sensor_3'].loc[9650:9800].mean()*100\n",
        "s3p35_low = Sensor3['Sensor_3'].loc[11350:11500].mean()*100\n",
        "s3p40_low = Sensor3['Sensor_3'].loc[13250:13400].mean()*100\n",
        "s3p45_low = Sensor3['Sensor_3'].loc[14850:14990].mean()*100\n",
        "\n",
        "s4p0_low = Sensor4['Sensor_4'].loc[625:775].mean()*100\n",
        "s4p5_low = Sensor4['Sensor_4'].loc[2700:2850].mean()*100\n",
        "s4p10_low = Sensor4['Sensor_4'].loc[4700:4840].mean()*100\n",
        "s4p15_low = Sensor4['Sensor_4'].loc[5900:6040].mean()*100\n",
        "s4p20_low = Sensor4['Sensor_4'].loc[7500:7660].mean()*100\n",
        "s4p25_low = Sensor4['Sensor_4'].loc[8550:8705].mean()*100\n",
        "s4p30_low = Sensor4['Sensor_4'].loc[9650:9800].mean()*100\n",
        "s4p35_low = Sensor4['Sensor_4'].loc[11350:11500].mean()*100\n",
        "s4p40_low = Sensor4['Sensor_4'].loc[13250:13400].mean()*100\n",
        "s4p45_low = Sensor4['Sensor_4'].loc[14850:14990].mean()*100\n",
        "\n",
        "s5p0_low = Sensor5['Sensor_5'].loc[625:775].mean()*100\n",
        "s5p5_low = Sensor5['Sensor_5'].loc[2700:2850].mean()*100\n",
        "s5p10_low = Sensor5['Sensor_5'].loc[4700:4840].mean()*100\n",
        "s5p15_low = Sensor5['Sensor_5'].loc[5900:6040].mean()*100\n",
        "s5p20_low = Sensor5['Sensor_5'].loc[7500:7660].mean()*100\n",
        "s5p25_low = Sensor5['Sensor_5'].loc[8550:8705].mean()*100\n",
        "s5p30_low = Sensor5['Sensor_5'].loc[9650:9800].mean()*100\n",
        "s5p35_low = Sensor5['Sensor_5'].loc[11350:11500].mean()*100\n",
        "s5p40_low = Sensor5['Sensor_5'].loc[13250:13400].mean()*100\n",
        "s5p45_low = Sensor5['Sensor_5'].loc[14850:14990].mean()*100\n",
        "\n",
        "##medium speed\n",
        "s0p0_med = Sensor0['Sensor_0'].loc[1050:1170].mean()*100\n",
        "s0p5_med = Sensor0['Sensor_0'].loc[3100:3210].mean()*100\n",
        "s0p10_med = Sensor0['Sensor_0'].loc[5050:5170].mean()*100\n",
        "s0p15_med = Sensor0['Sensor_0'].loc[6200:6315].mean()*100\n",
        "s0p20_med = Sensor0['Sensor_0'].loc[7850:7970].mean()*100\n",
        "s0p25_med = Sensor0['Sensor_0'].loc[8900:9000].mean()*100\n",
        "s0p30_med = Sensor0['Sensor_0'].loc[10500:10620].mean()*100\n",
        "s0p35_med = Sensor0['Sensor_0'].loc[11750:11860].mean()*100\n",
        "s0p40_med = Sensor0['Sensor_0'].loc[14000:14120].mean()*100\n",
        "s0p45_med = Sensor0['Sensor_0'].loc[15400:15510].mean()*100\n",
        "\n",
        "s1p0_med = Sensor1['Sensor_1'].loc[1050:1170].mean()*100\n",
        "s1p5_med = Sensor1['Sensor_1'].loc[3100:3210].mean()*100\n",
        "s1p10_med = Sensor1['Sensor_1'].loc[5050:5170].mean()*100\n",
        "s1p15_med = Sensor1['Sensor_1'].loc[6200:6315].mean()*100\n",
        "s1p20_med = Sensor1['Sensor_1'].loc[7850:7970].mean()*100\n",
        "s1p25_med = Sensor1['Sensor_1'].loc[8900:9000].mean()*100\n",
        "s1p30_med = Sensor1['Sensor_1'].loc[10500:10620].mean()*100\n",
        "s1p35_med = Sensor1['Sensor_1'].loc[11750:11860].mean()*100\n",
        "s1p40_med = Sensor1['Sensor_1'].loc[14000:14120].mean()*100\n",
        "s1p45_med = Sensor1['Sensor_1'].loc[15400:15510].mean()*100\n",
        "\n",
        "s2p0_med = Sensor2['Sensor_2'].loc[1050:1170].mean()*100\n",
        "s2p5_med = Sensor2['Sensor_2'].loc[3100:3210].mean()*100\n",
        "s2p10_med = Sensor2['Sensor_2'].loc[5050:5170].mean()*100\n",
        "s2p15_med = Sensor2['Sensor_2'].loc[6200:6315].mean()*100\n",
        "s2p20_med = Sensor2['Sensor_2'].loc[7850:7970].mean()*100\n",
        "s2p25_med = Sensor2['Sensor_2'].loc[8900:9000].mean()*100\n",
        "s2p30_med = Sensor2['Sensor_2'].loc[10500:10620].mean()*100\n",
        "s2p35_med = Sensor2['Sensor_2'].loc[11750:11860].mean()*100\n",
        "s2p40_med = Sensor2['Sensor_2'].loc[14000:14120].mean()*100\n",
        "s2p45_med = Sensor2['Sensor_2'].loc[15400:15510].mean()*100\n",
        "\n",
        "s3p0_med = Sensor3['Sensor_3'].loc[1050:1170].mean()*100\n",
        "s3p5_med = Sensor3['Sensor_3'].loc[3100:3210].mean()*100\n",
        "s3p10_med = Sensor3['Sensor_3'].loc[5050:5170].mean()*100\n",
        "s3p15_med = Sensor3['Sensor_3'].loc[6200:6315].mean()*100\n",
        "s3p20_med = Sensor3['Sensor_3'].loc[7850:7970].mean()*100\n",
        "s3p25_med = Sensor3['Sensor_3'].loc[8900:9000].mean()*100\n",
        "s3p30_med = Sensor3['Sensor_3'].loc[10500:10620].mean()*100\n",
        "s3p35_med = Sensor3['Sensor_3'].loc[11750:11860].mean()*100\n",
        "s3p40_med = Sensor3['Sensor_3'].loc[14000:14120].mean()*100\n",
        "s3p45_med = Sensor3['Sensor_3'].loc[15400:15510].mean()*100\n",
        "\n",
        "s4p0_med = Sensor4['Sensor_4'].loc[1050:1170].mean()*100\n",
        "s4p5_med = Sensor4['Sensor_4'].loc[3100:3210].mean()*100\n",
        "s4p10_med = Sensor4['Sensor_4'].loc[5050:5170].mean()*100\n",
        "s4p15_med = Sensor4['Sensor_4'].loc[6200:6315].mean()*100\n",
        "s4p20_med = Sensor4['Sensor_4'].loc[7850:7970].mean()*100\n",
        "s4p25_med = Sensor4['Sensor_4'].loc[8900:9000].mean()*100\n",
        "s4p30_med = Sensor4['Sensor_4'].loc[10500:10620].mean()*100\n",
        "s4p35_med = Sensor4['Sensor_4'].loc[11750:11860].mean()*100\n",
        "s4p40_med = Sensor4['Sensor_4'].loc[14000:14120].mean()*100\n",
        "s4p45_med = Sensor4['Sensor_4'].loc[15400:15510].mean()*100\n",
        "\n",
        "s5p0_med = Sensor5['Sensor_5'].loc[1050:1170].mean()*100\n",
        "s5p5_med = Sensor5['Sensor_5'].loc[3100:3210].mean()*100\n",
        "s5p10_med = Sensor5['Sensor_5'].loc[5050:5170].mean()*100\n",
        "s5p15_med = Sensor5['Sensor_5'].loc[6200:6315].mean()*100\n",
        "s5p20_med = Sensor5['Sensor_5'].loc[7850:7970].mean()*100\n",
        "s5p25_med = Sensor5['Sensor_5'].loc[8900:9000].mean()*100\n",
        "s5p30_med = Sensor5['Sensor_5'].loc[10500:10620].mean()*100\n",
        "s5p35_med = Sensor5['Sensor_5'].loc[11750:11860].mean()*100\n",
        "s5p40_med = Sensor5['Sensor_5'].loc[14000:14120].mean()*100\n",
        "s5p45_med = Sensor5['Sensor_5'].loc[15400:15510].mean()*100\n",
        "\n",
        "##high speed\n",
        "s0p0_high = Sensor0['Sensor_0'].loc[1600:1680].mean()*100\n",
        "s0p5_high = Sensor0['Sensor_0'].loc[3900:3980].mean()*100\n",
        "s0p10_high = Sensor0['Sensor_0'].loc[5400:5490].mean()*100\n",
        "s0p15_high = Sensor0['Sensor_0'].loc[6450:6535].mean()*100\n",
        "s0p20_high = Sensor0['Sensor_0'].loc[8100:8190].mean()*100\n",
        "s0p25_high = Sensor0['Sensor_0'].loc[9200:9285].mean()*100\n",
        "s0p30_high = Sensor0['Sensor_0'].loc[10800:10885].mean()*100\n",
        "s0p35_high = Sensor0['Sensor_0'].loc[12000:12085].mean()*100\n",
        "s0p40_high = Sensor0['Sensor_0'].loc[14550:14620].mean()*100\n",
        "s0p45_high = Sensor0['Sensor_0'].loc[15700:15775].mean()*100\n",
        "\n",
        "s1p0_high = Sensor1['Sensor_1'].loc[1600:1680].mean()*100\n",
        "s1p5_high = Sensor1['Sensor_1'].loc[3900:3980].mean()*100\n",
        "s1p10_high = Sensor1['Sensor_1'].loc[5400:5490].mean()*100\n",
        "s1p15_high = Sensor1['Sensor_1'].loc[6450:6535].mean()*100\n",
        "s1p20_high = Sensor1['Sensor_1'].loc[8100:8190].mean()*100\n",
        "s1p25_high = Sensor1['Sensor_1'].loc[9200:9285].mean()*100\n",
        "s1p30_high = Sensor1['Sensor_1'].loc[10800:10885].mean()*100\n",
        "s1p35_high = Sensor1['Sensor_1'].loc[12000:12085].mean()*100\n",
        "s1p40_high = Sensor1['Sensor_1'].loc[14550:14620].mean()*100\n",
        "s1p45_high = Sensor1['Sensor_1'].loc[15700:15775].mean()*100\n",
        "\n",
        "s2p0_high = Sensor2['Sensor_2'].loc[1600:1680].mean()*100\n",
        "s2p5_high = Sensor2['Sensor_2'].loc[3900:3980].mean()*100\n",
        "s2p10_high = Sensor2['Sensor_2'].loc[5400:5490].mean()*100\n",
        "s2p15_high = Sensor2['Sensor_2'].loc[6450:6535].mean()*100\n",
        "s2p20_high = Sensor2['Sensor_2'].loc[8100:8190].mean()*100\n",
        "s2p25_high = Sensor2['Sensor_2'].loc[9200:9285].mean()*100\n",
        "s2p30_high = Sensor2['Sensor_2'].loc[10800:10885].mean()*100\n",
        "s2p35_high = Sensor2['Sensor_2'].loc[12000:12085].mean()*100\n",
        "s2p40_high = Sensor2['Sensor_2'].loc[14550:14620].mean()*100\n",
        "s2p45_high = Sensor2['Sensor_2'].loc[15700:15775].mean()*100\n",
        "\n",
        "s3p0_high = Sensor3['Sensor_3'].loc[1600:1680].mean()*100\n",
        "s3p5_high = Sensor3['Sensor_3'].loc[3900:3980].mean()*100\n",
        "s3p10_high = Sensor3['Sensor_3'].loc[5400:5490].mean()*100\n",
        "s3p15_high = Sensor3['Sensor_3'].loc[6450:6535].mean()*100\n",
        "s3p20_high = Sensor3['Sensor_3'].loc[8100:8190].mean()*100\n",
        "s3p25_high = Sensor3['Sensor_3'].loc[9200:9285].mean()*100\n",
        "s3p30_high = Sensor3['Sensor_3'].loc[10800:10885].mean()*100\n",
        "s3p35_high = Sensor3['Sensor_3'].loc[12000:12085].mean()*100\n",
        "s3p40_high = Sensor3['Sensor_3'].loc[14550:14620].mean()*100\n",
        "s3p45_high = Sensor3['Sensor_3'].loc[15700:15775].mean()*100\n",
        "\n",
        "s4p0_high = Sensor4['Sensor_4'].loc[1600:1680].mean()*100\n",
        "s4p5_high = Sensor4['Sensor_4'].loc[3900:3980].mean()*100\n",
        "s4p10_high = Sensor4['Sensor_4'].loc[5400:5490].mean()*100\n",
        "s4p15_high = Sensor4['Sensor_4'].loc[6450:6535].mean()*100\n",
        "s4p20_high = Sensor4['Sensor_4'].loc[8100:8190].mean()*100\n",
        "s4p25_high = Sensor4['Sensor_4'].loc[9200:9285].mean()*100\n",
        "s4p30_high = Sensor4['Sensor_4'].loc[10800:10885].mean()*100\n",
        "s4p35_high = Sensor4['Sensor_4'].loc[12000:12085].mean()*100\n",
        "s4p40_high = Sensor4['Sensor_4'].loc[14550:14620].mean()*100\n",
        "s4p45_high = Sensor4['Sensor_4'].loc[15700:15775].mean()*100\n",
        "\n",
        "s5p0_high = Sensor5['Sensor_5'].loc[1600:1680].mean()*100\n",
        "s5p5_high = Sensor5['Sensor_5'].loc[3900:3980].mean()*100\n",
        "s5p10_high = Sensor5['Sensor_5'].loc[5400:5490].mean()*100\n",
        "s5p15_high = Sensor5['Sensor_5'].loc[6450:6535].mean()*100\n",
        "s5p20_high = Sensor5['Sensor_5'].loc[8100:8190].mean()*100\n",
        "s5p25_high = Sensor5['Sensor_5'].loc[9200:9285].mean()*100\n",
        "s5p30_high = Sensor5['Sensor_5'].loc[10800:10885].mean()*100\n",
        "s5p35_high = Sensor5['Sensor_5'].loc[12000:12085].mean()*100\n",
        "s5p40_high = Sensor5['Sensor_5'].loc[14550:14620].mean()*100\n",
        "s5p45_high = Sensor5['Sensor_5'].loc[15700:15775].mean()*100"
      ]
    },
    {
      "cell_type": "code",
      "execution_count": null,
      "metadata": {
        "id": "WT3OVjulTSZj"
      },
      "outputs": [],
      "source": [
        "angle = np.array([0, 5, 10, 15, 20, 25, 30, 35, 40, 45])\n",
        "\n",
        "ambient_pressure_s0 = np.ones(10)*Sensor0['Sensor_0'].loc[120:500].mean()*100\n",
        "sensor0_pressure_low = np.array([s0p0_low, s0p5_low, s0p10_low, s0p15_low, s0p20_low, s0p25_low, s0p30_low, s0p35_low, s0p40_low, s0p45_low]) - ambient_pressure_s0\n",
        "sensor0_pressure_med = np.array([s0p0_med, s0p5_med, s0p10_med, s0p15_med, s0p20_med, s0p25_med, s0p30_med, s0p35_med, s0p40_med, s0p45_med]) - ambient_pressure_s0\n",
        "sensor0_pressure_high = np.array([s0p0_high, s0p5_high, s0p10_high, s0p15_high, s0p20_high, s0p25_high, s0p30_high, s0p35_high, s0p40_high, s0p45_high]) - ambient_pressure_s0\n",
        "\n",
        "ambient_pressure_s1 = np.ones(10)*Sensor1['Sensor_1'].loc[120:500].mean()*100\n",
        "sensor1_pressure_low = np.array([s1p0_low, s1p5_low, s1p10_low, s1p15_low, s1p20_low, s1p25_low, s1p30_low, s1p35_low, s1p40_low, s1p45_low]) - ambient_pressure_s1\n",
        "sensor1_pressure_med = np.array([s1p0_med, s1p5_med, s1p10_med, s1p15_med, s1p20_med, s1p25_med, s1p30_med, s1p35_med, s1p40_med, s1p45_med]) - ambient_pressure_s1\n",
        "sensor1_pressure_high = np.array([s1p0_high, s1p5_high, s1p10_high, s1p15_high, s1p20_high, s1p25_high, s1p30_high, s1p35_high, s1p40_high, s1p45_high]) - ambient_pressure_s1\n",
        "\n",
        "ambient_pressure_s2 = np.ones(10)*Sensor2['Sensor_2'].loc[120:500].mean()*100\n",
        "sensor2_pressure_low = np.array([s2p0_low, s2p5_low, s2p10_low, s2p15_low, s2p20_low, s2p25_low, s2p30_low, s2p35_low, s2p40_low, s2p45_low]) - ambient_pressure_s2\n",
        "sensor2_pressure_med = np.array([s2p0_med, s2p5_med, s2p10_med, s2p15_med, s2p20_med, s2p25_med, s2p30_med, s2p35_med, s2p40_med, s2p45_med]) - ambient_pressure_s2\n",
        "sensor2_pressure_high = np.array([s2p0_high, s2p5_high, s2p10_high, s2p15_high, s2p20_high, s2p25_high, s2p30_high, s2p35_high, s2p40_high, s2p45_high]) - ambient_pressure_s2\n",
        "\n",
        "ambient_pressure_s3 = np.ones(10)*Sensor3['Sensor_3'].loc[120:500].mean()*100\n",
        "sensor3_pressure_low = np.array([s3p0_low, s3p5_low, s3p10_low, s3p15_low, s3p20_low, s3p25_low, s3p30_low, s3p35_low, s3p40_low, s3p45_low]) - ambient_pressure_s3\n",
        "sensor3_pressure_med = np.array([s3p0_med, s3p5_med, s3p10_med, s3p15_med, s3p20_med, s3p25_med, s3p30_med, s3p35_med, s3p40_med, s3p45_med]) - ambient_pressure_s3\n",
        "sensor3_pressure_high = np.array([s3p0_high, s3p5_high, s3p10_high, s3p15_high, s3p20_high, s3p25_high, s3p30_high, s3p35_high, s3p40_high, s3p45_high]) - ambient_pressure_s3\n",
        "\n",
        "ambient_pressure_s4 = np.ones(10)*Sensor4['Sensor_4'].loc[120:500].mean()*100\n",
        "sensor4_pressure_low = np.array([s4p0_low, s4p5_low, s4p10_low, s4p15_low, s4p20_low, s4p25_low, s4p30_low, s4p35_low, s4p40_low, s4p45_low]) - ambient_pressure_s4\n",
        "sensor4_pressure_med = np.array([s4p0_med, s4p5_med, s4p10_med, s4p15_med, s4p20_med, s4p25_med, s4p30_med, s4p35_med, s4p40_med, s4p45_med]) - ambient_pressure_s4\n",
        "sensor4_pressure_high = np.array([s4p0_high, s4p5_high, s4p10_high, s4p15_high, s4p20_high, s4p25_high, s4p30_high, s4p35_high, s4p40_high, s4p45_high]) - ambient_pressure_s4\n",
        "\n",
        "ambient_pressure_s5 = np.ones(10)*Sensor5['Sensor_5'].loc[120:500].mean()*100\n",
        "sensor5_pressure_low = np.array([s5p0_low, s5p5_low, s5p10_low, s5p15_low, s5p20_low, s5p25_low, s5p30_low, s5p35_low, s5p40_low, s5p45_low]) - ambient_pressure_s5\n",
        "sensor5_pressure_med = np.array([s5p0_med, s5p5_med, s5p10_med, s5p15_med, s5p20_med, s5p25_med, s5p30_med, s5p35_med, s5p40_med, s5p45_med]) - ambient_pressure_s5\n",
        "sensor5_pressure_high = np.array([s5p0_high, s5p5_high, s5p10_high, s5p15_high, s5p20_high, s5p25_high, s5p30_high, s5p35_high, s5p40_high, s5p45_high]) - ambient_pressure_s5"
      ]
    },
    {
      "cell_type": "code",
      "source": [
        "sensor5_pressure_high"
      ],
      "metadata": {
        "colab": {
          "base_uri": "https://localhost:8080/"
        },
        "id": "Dj602gkWdKuB",
        "outputId": "8145d884-c830-49c4-ea06-9a606efd27ce"
      },
      "execution_count": null,
      "outputs": [
        {
          "output_type": "execute_result",
          "data": {
            "text/plain": [
              "array([ -4.80531767,  -9.71021644,  -8.52087579, -10.53222284,\n",
              "       -16.36865052, -12.72821238, -21.4574461 , -17.32330772,\n",
              "       -19.61572769, -22.4263013 ])"
            ]
          },
          "metadata": {},
          "execution_count": 32
        }
      ]
    },
    {
      "cell_type": "code",
      "execution_count": null,
      "metadata": {
        "id": "X2Q5S8rC3Rc6"
      },
      "outputs": [],
      "source": [
        "###intervals not averages\n",
        "##low speed\n",
        "s0p0_lowi = Sensor0['Sensor_0'].loc[625:775]*100\n",
        "s0p5_lowi = Sensor0['Sensor_0'].loc[2700:2850]*100\n",
        "s0p10_lowi = Sensor0['Sensor_0'].loc[4700:4840]*100\n",
        "s0p15_lowi= Sensor0['Sensor_0'].loc[5900:6040]*100\n",
        "s0p20_lowi = Sensor0['Sensor_0'].loc[7500:7660]*100\n",
        "s0p25_lowi = Sensor0['Sensor_0'].loc[8550:8705]*100\n",
        "s0p30_lowi = Sensor0['Sensor_0'].loc[9650:9800]*100\n",
        "s0p35_lowi = Sensor0['Sensor_0'].loc[11350:11500]*100\n",
        "s0p40_lowi = Sensor0['Sensor_0'].loc[13250:13400]*100\n",
        "s0p45_lowi = Sensor0['Sensor_0'].loc[14850:14990]*100\n",
        "\n",
        "s1p0_lowi = Sensor1['Sensor_1'].loc[625:775]*100\n",
        "s1p5_lowi = Sensor1['Sensor_1'].loc[2700:2850]*100\n",
        "s1p10_lowi = Sensor1['Sensor_1'].loc[4700:4840]*100\n",
        "s1p15_lowi = Sensor1['Sensor_1'].loc[5900:6040]*100\n",
        "s1p20_lowi = Sensor1['Sensor_1'].loc[7500:7660]*100\n",
        "s1p25_lowi = Sensor1['Sensor_1'].loc[8550:8705]*100\n",
        "s1p30_lowi = Sensor1['Sensor_1'].loc[9650:9800]*100\n",
        "s1p35_lowi = Sensor1['Sensor_1'].loc[11350:11500]*100\n",
        "s1p40_lowi = Sensor1['Sensor_1'].loc[13250:13400]*100\n",
        "s1p45_lowi = Sensor1['Sensor_1'].loc[14850:14990]*100\n",
        "\n",
        "s2p0_lowi = Sensor2['Sensor_2'].loc[625:775]*100\n",
        "s2p5_lowi = Sensor2['Sensor_2'].loc[2700:2850]*100\n",
        "s2p10_lowi = Sensor2['Sensor_2'].loc[4700:4840]*100\n",
        "s2p15_lowi = Sensor2['Sensor_2'].loc[5900:6040]*100\n",
        "s2p20_lowi = Sensor2['Sensor_2'].loc[7500:7660]*100\n",
        "s2p25_lowi = Sensor2['Sensor_2'].loc[8550:8705]*100\n",
        "s2p30_lowi = Sensor2['Sensor_2'].loc[9650:9800]*100\n",
        "s2p35_lowi = Sensor2['Sensor_2'].loc[11350:11500]*100\n",
        "s2p40_lowi = Sensor2['Sensor_2'].loc[13250:13400]*100\n",
        "s2p45_lowi = Sensor2['Sensor_2'].loc[14850:14990]*100\n",
        "\n",
        "s3p0_lowi = Sensor3['Sensor_3'].loc[625:775]*100\n",
        "s3p5_lowi = Sensor3['Sensor_3'].loc[2700:2850]*100\n",
        "s3p10_lowi = Sensor3['Sensor_3'].loc[4700:4840]*100\n",
        "s3p15_lowi = Sensor3['Sensor_3'].loc[5900:6040]*100\n",
        "s3p20_lowi = Sensor3['Sensor_3'].loc[7500:7660]*100\n",
        "s3p25_lowi = Sensor3['Sensor_3'].loc[8550:8705]*100\n",
        "s3p30_lowi = Sensor3['Sensor_3'].loc[9650:9800]*100\n",
        "s3p35_lowi = Sensor3['Sensor_3'].loc[11350:11500]*100\n",
        "s3p40_lowi = Sensor3['Sensor_3'].loc[13250:13400]*100\n",
        "s3p45_lowi = Sensor3['Sensor_3'].loc[14850:14990]*100\n",
        "\n",
        "s4p0_lowi = Sensor4['Sensor_4'].loc[625:775]*100\n",
        "s4p5_lowi = Sensor4['Sensor_4'].loc[2700:2850]*100\n",
        "s4p10_lowi = Sensor4['Sensor_4'].loc[4700:4840]*100\n",
        "s4p15_lowi = Sensor4['Sensor_4'].loc[5900:6040]*100\n",
        "s4p20_lowi = Sensor4['Sensor_4'].loc[7500:7660]*100\n",
        "s4p25_lowi = Sensor4['Sensor_4'].loc[8550:8705]*100\n",
        "s4p30_lowi = Sensor4['Sensor_4'].loc[9650:9800]*100\n",
        "s4p35_lowi = Sensor4['Sensor_4'].loc[11350:11500]*100\n",
        "s4p40_lowi = Sensor4['Sensor_4'].loc[13250:13400]*100\n",
        "s4p45_lowi = Sensor4['Sensor_4'].loc[14850:14990]*100\n",
        "\n",
        "s5p0_lowi = Sensor5['Sensor_5'].loc[625:775]*100\n",
        "s5p5_lowi = Sensor5['Sensor_5'].loc[2700:2850]*100\n",
        "s5p10_lowi = Sensor5['Sensor_5'].loc[4700:4840]*100\n",
        "s5p15_lowi = Sensor5['Sensor_5'].loc[5900:6040]*100\n",
        "s5p20_lowi = Sensor5['Sensor_5'].loc[7500:7660]*100\n",
        "s5p25_lowi = Sensor5['Sensor_5'].loc[8550:8705]*100\n",
        "s5p30_lowi = Sensor5['Sensor_5'].loc[9650:9800]*100\n",
        "s5p35_lowi = Sensor5['Sensor_5'].loc[11350:11500]*100\n",
        "s5p40_lowi = Sensor5['Sensor_5'].loc[13250:13400]*100\n",
        "s5p45_lowi = Sensor5['Sensor_5'].loc[14850:14990]*100\n",
        "\n",
        "##medium speed\n",
        "s0p0_medi = Sensor0['Sensor_0'].loc[1050:1170]*100\n",
        "s0p5_medi = Sensor0['Sensor_0'].loc[3100:3210]*100\n",
        "s0p10_medi = Sensor0['Sensor_0'].loc[5050:5170]*100\n",
        "s0p15_medi = Sensor0['Sensor_0'].loc[6200:6315]*100\n",
        "s0p20_medi = Sensor0['Sensor_0'].loc[7850:7970]*100\n",
        "s0p25_medi = Sensor0['Sensor_0'].loc[8900:9000]*100\n",
        "s0p30_medi = Sensor0['Sensor_0'].loc[10500:10620]*100\n",
        "s0p35_medi = Sensor0['Sensor_0'].loc[11750:11860]*100\n",
        "s0p40_medi = Sensor0['Sensor_0'].loc[14000:14120]*100\n",
        "s0p45_medi = Sensor0['Sensor_0'].loc[15400:15510]*100\n",
        "\n",
        "s1p0_medi = Sensor1['Sensor_1'].loc[1050:1170]*100\n",
        "s1p5_medi = Sensor1['Sensor_1'].loc[3100:3210]*100\n",
        "s1p10_medi = Sensor1['Sensor_1'].loc[5050:5170]*100\n",
        "s1p15_medi = Sensor1['Sensor_1'].loc[6200:6315]*100\n",
        "s1p20_medi = Sensor1['Sensor_1'].loc[7850:7970]*100\n",
        "s1p25_medi = Sensor1['Sensor_1'].loc[8900:9000]*100\n",
        "s1p30_medi = Sensor1['Sensor_1'].loc[10500:10620]*100\n",
        "s1p35_medi = Sensor1['Sensor_1'].loc[11750:11860]*100\n",
        "s1p40_medi = Sensor1['Sensor_1'].loc[14000:14120]*100\n",
        "s1p45_medi = Sensor1['Sensor_1'].loc[15400:15510]*100\n",
        "\n",
        "s2p0_medi = Sensor2['Sensor_2'].loc[1050:1170]*100\n",
        "s2p5_medi = Sensor2['Sensor_2'].loc[3100:3210]*100\n",
        "s2p10_medi = Sensor2['Sensor_2'].loc[5050:5170]*100\n",
        "s2p15_medi = Sensor2['Sensor_2'].loc[6200:6315]*100\n",
        "s2p20_medi = Sensor2['Sensor_2'].loc[7850:7970]*100\n",
        "s2p25_medi = Sensor2['Sensor_2'].loc[8900:9000]*100\n",
        "s2p30_medi = Sensor2['Sensor_2'].loc[10500:10620]*100\n",
        "s2p35_medi = Sensor2['Sensor_2'].loc[11750:11860]*100\n",
        "s2p40_medi = Sensor2['Sensor_2'].loc[14000:14120]*100\n",
        "s2p45_medi = Sensor2['Sensor_2'].loc[15400:15510]*100\n",
        "\n",
        "s3p0_medi = Sensor3['Sensor_3'].loc[1050:1170]*100\n",
        "s3p5_medi = Sensor3['Sensor_3'].loc[3100:3210]*100\n",
        "s3p10_medi = Sensor3['Sensor_3'].loc[5050:5170]*100\n",
        "s3p15_medi = Sensor3['Sensor_3'].loc[6200:6315]*100\n",
        "s3p20_medi = Sensor3['Sensor_3'].loc[7850:7970]*100\n",
        "s3p25_medi = Sensor3['Sensor_3'].loc[8900:9000]*100\n",
        "s3p30_medi = Sensor3['Sensor_3'].loc[10500:10620]*100\n",
        "s3p35_medi = Sensor3['Sensor_3'].loc[11750:11860]*100\n",
        "s3p40_medi = Sensor3['Sensor_3'].loc[14000:14120]*100\n",
        "s3p45_medi = Sensor3['Sensor_3'].loc[15400:15510]*100\n",
        "\n",
        "s4p0_medi = Sensor4['Sensor_4'].loc[1050:1170]*100\n",
        "s4p5_medi = Sensor4['Sensor_4'].loc[3100:3210]*100\n",
        "s4p10_medi = Sensor4['Sensor_4'].loc[5050:5170]*100\n",
        "s4p15_medi = Sensor4['Sensor_4'].loc[6200:6315]*100\n",
        "s4p20_medi = Sensor4['Sensor_4'].loc[7850:7970]*100\n",
        "s4p25_medi = Sensor4['Sensor_4'].loc[8900:9000]*100\n",
        "s4p30_medi = Sensor4['Sensor_4'].loc[10500:10620]*100\n",
        "s4p35_medi = Sensor4['Sensor_4'].loc[11750:11860]*100\n",
        "s4p40_medi = Sensor4['Sensor_4'].loc[14000:14120]*100\n",
        "s4p45_medi = Sensor4['Sensor_4'].loc[15400:15510]*100\n",
        "\n",
        "s5p0_medi = Sensor5['Sensor_5'].loc[1050:1170]*100\n",
        "s5p5_medi = Sensor5['Sensor_5'].loc[3100:3210]*100\n",
        "s5p10_medi = Sensor5['Sensor_5'].loc[5050:5170]*100\n",
        "s5p15_medi = Sensor5['Sensor_5'].loc[6200:6315]*100\n",
        "s5p20_medi = Sensor5['Sensor_5'].loc[7850:7970]*100\n",
        "s5p25_medi = Sensor5['Sensor_5'].loc[8900:9000]*100\n",
        "s5p30_medi = Sensor5['Sensor_5'].loc[10500:10620]*100\n",
        "s5p35_medi = Sensor5['Sensor_5'].loc[11750:11860]*100\n",
        "s5p40_medi = Sensor5['Sensor_5'].loc[14000:14120]*100\n",
        "s5p45_medi = Sensor5['Sensor_5'].loc[15400:15510]*100\n",
        "\n",
        "##high speed\n",
        "s0p0_highi = Sensor0['Sensor_0'].loc[1600:1680]*100\n",
        "s0p5_highi = Sensor0['Sensor_0'].loc[3900:3980]*100\n",
        "s0p10_highi = Sensor0['Sensor_0'].loc[5400:5490]*100\n",
        "s0p15_highi = Sensor0['Sensor_0'].loc[6450:6535]*100\n",
        "s0p20_highi = Sensor0['Sensor_0'].loc[8100:8190]*100\n",
        "s0p25_highi = Sensor0['Sensor_0'].loc[9200:9285]*100\n",
        "s0p30_highi = Sensor0['Sensor_0'].loc[10800:10885]*100\n",
        "s0p35_highi = Sensor0['Sensor_0'].loc[12000:12085]*100\n",
        "s0p40_highi = Sensor0['Sensor_0'].loc[14550:14620]*100\n",
        "s0p45_highi = Sensor0['Sensor_0'].loc[15700:15775]*100\n",
        "\n",
        "s1p0_highi = Sensor1['Sensor_1'].loc[1600:1680]*100\n",
        "s1p5_highi = Sensor1['Sensor_1'].loc[3900:3980]*100\n",
        "s1p10_highi = Sensor1['Sensor_1'].loc[5400:5490]*100\n",
        "s1p15_highi = Sensor1['Sensor_1'].loc[6450:6535]*100\n",
        "s1p20_highi = Sensor1['Sensor_1'].loc[8100:8190]*100\n",
        "s1p25_highi = Sensor1['Sensor_1'].loc[9200:9285]*100\n",
        "s1p30_highi = Sensor1['Sensor_1'].loc[10800:10885]*100\n",
        "s1p35_highi = Sensor1['Sensor_1'].loc[12000:12085]*100\n",
        "s1p40_highi = Sensor1['Sensor_1'].loc[14550:14620]*100\n",
        "s1p45_highi = Sensor1['Sensor_1'].loc[15700:15775]*100\n",
        "\n",
        "s2p0_highi = Sensor2['Sensor_2'].loc[1600:1680]*100\n",
        "s2p5_highi = Sensor2['Sensor_2'].loc[3900:3980]*100\n",
        "s2p10_highi = Sensor2['Sensor_2'].loc[5400:5490]*100\n",
        "s2p15_highi = Sensor2['Sensor_2'].loc[6450:6535]*100\n",
        "s2p20_highi = Sensor2['Sensor_2'].loc[8100:8190]*100\n",
        "s2p25_highi = Sensor2['Sensor_2'].loc[9200:9285]*100\n",
        "s2p30_highi = Sensor2['Sensor_2'].loc[10800:10885]*100\n",
        "s2p35_highi = Sensor2['Sensor_2'].loc[12000:12085]*100\n",
        "s2p40_highi = Sensor2['Sensor_2'].loc[14550:14620]*100\n",
        "s2p45_highi = Sensor2['Sensor_2'].loc[15700:15775]*100\n",
        "\n",
        "s3p0_highi = Sensor3['Sensor_3'].loc[1600:1680]*100\n",
        "s3p5_highi = Sensor3['Sensor_3'].loc[3900:3980]*100\n",
        "s3p10_highi = Sensor3['Sensor_3'].loc[5400:5490]*100\n",
        "s3p15_highi = Sensor3['Sensor_3'].loc[6450:6535]*100\n",
        "s3p20_highi = Sensor3['Sensor_3'].loc[8100:8190]*100\n",
        "s3p25_highi = Sensor3['Sensor_3'].loc[9200:9285]*100\n",
        "s3p30_highi = Sensor3['Sensor_3'].loc[10800:10885]*100\n",
        "s3p35_highi = Sensor3['Sensor_3'].loc[12000:12085]*100\n",
        "s3p40_highi = Sensor3['Sensor_3'].loc[14550:14620]*100\n",
        "s3p45_highi = Sensor3['Sensor_3'].loc[15700:15775]*100\n",
        "\n",
        "s4p0_highi = Sensor4['Sensor_4'].loc[1600:1680]*100\n",
        "s4p5_highi = Sensor4['Sensor_4'].loc[3900:3980]*100\n",
        "s4p10_highi = Sensor4['Sensor_4'].loc[5400:5490]*100\n",
        "s4p15_highi = Sensor4['Sensor_4'].loc[6450:6535]*100\n",
        "s4p20_highi = Sensor4['Sensor_4'].loc[8100:8190]*100\n",
        "s4p25_highi = Sensor4['Sensor_4'].loc[9200:9285]*100\n",
        "s4p30_highi = Sensor4['Sensor_4'].loc[10800:10885]*100\n",
        "s4p35_highi = Sensor4['Sensor_4'].loc[12000:12085]*100\n",
        "s4p40_highi = Sensor4['Sensor_4'].loc[14550:14620]*100\n",
        "s4p45_highi = Sensor4['Sensor_4'].loc[15700:15775]*100\n",
        "\n",
        "s5p0_highi = Sensor5['Sensor_5'].loc[1600:1680]*100\n",
        "s5p5_highi = Sensor5['Sensor_5'].loc[3900:3980]*100\n",
        "s5p10_highi = Sensor5['Sensor_5'].loc[5400:5490]*100\n",
        "s5p15_highi = Sensor5['Sensor_5'].loc[6450:6535]*100\n",
        "s5p20_highi = Sensor5['Sensor_5'].loc[8100:8190]*100\n",
        "s5p25_highi = Sensor5['Sensor_5'].loc[9200:9285]*100\n",
        "s5p30_highi = Sensor5['Sensor_5'].loc[10800:10885]*100\n",
        "s5p35_highi = Sensor5['Sensor_5'].loc[12000:12085]*100\n",
        "s5p40_highi = Sensor5['Sensor_5'].loc[14550:14620]*100\n",
        "s5p45_highi = Sensor5['Sensor_5'].loc[15700:15775]*100"
      ]
    },
    {
      "cell_type": "code",
      "source": [
        "s5p0_lowi-s4p0_lowi"
      ],
      "metadata": {
        "colab": {
          "base_uri": "https://localhost:8080/"
        },
        "id": "_U5kl91XXced",
        "outputId": "69fe97ff-9360-4d82-8c4f-86c216532b8d"
      },
      "execution_count": null,
      "outputs": [
        {
          "output_type": "execute_result",
          "data": {
            "text/plain": [
              "625   -16.1438\n",
              "626   -16.0034\n",
              "627   -15.8691\n",
              "628   -15.6128\n",
              "629   -15.8142\n",
              "        ...   \n",
              "771   -14.7889\n",
              "772   -14.8681\n",
              "773   -14.9597\n",
              "774   -14.8132\n",
              "775   -14.8682\n",
              "Length: 151, dtype: float64"
            ]
          },
          "metadata": {},
          "execution_count": 35
        }
      ]
    },
    {
      "cell_type": "code",
      "execution_count": null,
      "metadata": {
        "id": "mqXmXL1tBKyT"
      },
      "outputs": [],
      "source": [
        "##intervals not averages\n",
        "angle = np.array([0, 5, 10, 15, 20, 25, 30, 35, 40, 45])\n",
        "\n",
        "a0 = Sensor0['Sensor_0'].loc[120:500].mean()*100\n",
        "s0low = [s0p0_lowi, s0p5_lowi, s0p10_lowi, s0p15_lowi, s0p20_lowi, s0p25_lowi, s0p30_lowi, s0p35_lowi, s0p40_lowi, s0p45_lowi]\n",
        "s0low = [x - a0 for x in s0low]\n",
        "s0med = [s0p0_medi, s0p5_medi, s0p10_medi, s0p15_medi, s0p20_medi, s0p25_medi, s0p30_medi, s0p35_medi, s0p40_medi, s0p45_medi]\n",
        "s0med = [x - a0 for x in s0med]\n",
        "s0high = [s0p0_highi, s0p5_highi, s0p10_highi, s0p15_highi, s0p20_highi, s0p25_highi, s0p30_highi, s0p35_highi, s0p40_highi, s0p45_highi]\n",
        "s0high = [x - a0 for x in s0high]\n",
        "\n",
        "a1 = Sensor1['Sensor_1'].loc[120:500].mean()*100\n",
        "s1low = [s1p0_lowi, s1p5_lowi, s1p10_lowi, s1p15_lowi, s1p20_lowi, s1p25_lowi, s1p30_lowi, s1p35_lowi, s1p40_lowi, s1p45_lowi]\n",
        "s1low = [x - a1 for x in s1low]\n",
        "s1med = [s1p0_medi, s1p5_medi, s1p10_medi, s1p15_medi, s1p20_medi, s1p25_medi, s1p30_medi, s1p35_medi, s1p40_medi, s1p45_medi]\n",
        "s1med = [x - a1 for x in s1med]\n",
        "s1high = [s1p0_highi, s1p5_highi, s1p10_highi, s1p15_highi, s1p20_highi, s1p25_highi, s1p30_highi, s1p35_highi, s1p40_highi, s1p45_highi]\n",
        "s1high = [x - a1 for x in s1high]\n",
        "\n",
        "a2 = Sensor2['Sensor_2'].loc[120:500].mean()*100\n",
        "s2low = [s2p0_lowi, s2p5_lowi, s2p10_lowi, s2p15_lowi, s2p20_lowi, s2p25_lowi, s2p30_lowi, s2p35_lowi, s2p40_lowi, s2p45_lowi]\n",
        "s2low = [x - a2 for x in s2low]\n",
        "s2med = [s2p0_medi, s2p5_medi, s2p10_medi, s2p15_medi, s2p20_medi, s2p25_medi, s2p30_medi, s2p35_medi, s2p40_medi, s2p45_medi]\n",
        "s2med = [x - a2 for x in s2med]\n",
        "s2high = [s2p0_highi, s2p5_highi, s2p10_highi, s2p15_highi, s2p20_highi, s2p25_highi, s2p30_highi, s2p35_highi, s2p40_highi, s2p45_highi]\n",
        "s2high = [x - a2 for x in s2high]\n",
        "\n",
        "a3 = Sensor3['Sensor_3'].loc[120:500].mean()*100\n",
        "s3low = [s3p0_lowi, s3p5_lowi, s3p10_lowi, s3p15_lowi, s3p20_lowi, s3p25_lowi, s3p30_lowi, s3p35_lowi, s3p40_lowi, s3p45_lowi]\n",
        "s3low = [x - a3 for x in s3low]\n",
        "s3med = [s3p0_medi, s3p5_medi, s3p10_medi, s3p15_medi, s3p20_medi, s3p25_medi, s3p30_medi, s3p35_medi, s3p40_medi, s3p45_medi]\n",
        "s3med = [x - a3 for x in s3med]\n",
        "s3high = [s3p0_highi, s3p5_highi, s3p10_highi, s3p15_highi, s3p20_highi, s3p25_highi, s3p30_highi, s3p35_highi, s3p40_highi, s3p45_highi]\n",
        "s3high = [x - a3 for x in s3high]\n",
        "\n",
        "a4 = Sensor4['Sensor_4'].loc[120:500].mean()*100\n",
        "s4low = [s4p0_lowi, s4p5_lowi, s4p10_lowi, s4p15_lowi, s4p20_lowi, s4p25_lowi, s4p30_lowi, s4p35_lowi, s4p40_lowi, s4p45_lowi]\n",
        "s4low = [x - a4 for x in s4low]\n",
        "s4med = [s4p0_medi, s4p5_medi, s4p10_medi, s4p15_medi, s4p20_medi, s4p25_medi, s4p30_medi, s4p35_medi, s4p40_medi, s4p45_medi]\n",
        "s4med = [x - a4 for x in s4med]\n",
        "s4high = [s4p0_highi, s4p5_highi, s4p10_highi, s4p15_highi, s4p20_highi, s4p25_highi, s4p30_highi, s4p35_highi, s4p40_highi, s4p45_highi]\n",
        "s4high = [x - a4 for x in s4high]\n",
        "\n",
        "a5 = Sensor5['Sensor_5'].loc[120:500].mean()*100\n",
        "s5low = [s5p0_lowi, s5p5_lowi, s5p10_lowi, s5p15_lowi, s5p20_lowi, s5p25_lowi, s5p30_lowi, s5p35_lowi, s5p40_lowi, s5p45_lowi]\n",
        "s5low = [x - a5 for x in s5low]\n",
        "s5med = [s5p0_medi, s5p5_medi, s5p10_medi, s5p15_medi, s5p20_medi, s5p25_medi, s5p30_medi, s5p35_medi, s5p40_medi, s5p45_medi]\n",
        "s5med = [x - a5 for x in s5med]\n",
        "s5high = [s5p0_highi, s5p5_highi, s5p10_highi, s5p15_highi, s5p20_highi, s5p25_highi, s5p30_highi, s5p35_highi, s5p40_highi, s5p45_highi]\n",
        "s5high = [x - a5 for x in s5high]"
      ]
    },
    {
      "cell_type": "code",
      "source": [
        "dp54low = []\n",
        "dp54med = []\n",
        "dp54high = []\n",
        "for i in range(10):\n",
        "  dp54low.append(s5low[i]-s4low[i])\n",
        "  dp54med.append(s5med[i]-s4med[i])\n",
        "  dp54high.append(s5high[i]-s4high[i])\n",
        "\n",
        "print(dp54low[0].loc(0))\n",
        "\n",
        "counter = 0\n",
        "for i in dp54low:\n",
        "\n",
        "  if i.any() < 0:\n",
        "    counter+=1\n",
        "\n",
        "print(counter)\n"
      ],
      "metadata": {
        "colab": {
          "base_uri": "https://localhost:8080/"
        },
        "id": "jaTH3vzedDD9",
        "outputId": "64fe59e7-5796-49ce-91ab-1852983a1ff2"
      },
      "execution_count": null,
      "outputs": [
        {
          "output_type": "stream",
          "name": "stdout",
          "text": [
            "<pandas.core.indexing._LocIndexer object at 0x7f978baa96d0>\n",
            "0\n"
          ]
        }
      ]
    },
    {
      "cell_type": "code",
      "source": [
        "e54low = []\n",
        "e54med = []\n",
        "e54high = []\n",
        "for i in range(10):\n",
        "  e54low.append(((dp54low[i]/(0.46875*1.122))**(0.5)).std())\n",
        "  e54med.append(((dp54med[i]/(0.46875*1.122))**(0.5)).std())\n",
        "  e54high.append(((dp54high[i]/(0.46875*1.122))**(0.5)).std())\n",
        "\n",
        "print(e54low)\n",
        "print(e54med)\n",
        "print(e54high)"
      ],
      "metadata": {
        "colab": {
          "base_uri": "https://localhost:8080/"
        },
        "id": "zY3Ke_MXiUia",
        "outputId": "f9df81b9-f0db-4402-f241-389ad4850ffc"
      },
      "execution_count": null,
      "outputs": [
        {
          "output_type": "stream",
          "name": "stdout",
          "text": [
            "[0.2226996075000575, 0.18479973953337844, 0.18511931703716863, 0.16305295907936632, 0.12619454473819766, 0.1423399592622784, 0.15832683436648337, 0.13034995357536652, 0.13576092177773982, 0.1436245397913372]\n",
            "[0.2614519670689717, 0.24190170060831098, 0.1776329330410132, 0.14529727417245208, 0.19392097751620965, 0.15151533251197472, 0.1846125060738341, 0.13180447727144437, 0.1701380853186852, 0.3528460528804679]\n",
            "[0.481430990053373, 0.31388051332477107, 0.26029842883990245, 0.23029625303132836, 0.2893880496461511, 0.23432450394390908, 0.2240479769694135, 0.24954028789021382, 0.2958784357258732, 0.2804887687645175]\n"
          ]
        }
      ]
    },
    {
      "cell_type": "code",
      "source": [
        "dp01low = []\n",
        "dp01med = []\n",
        "dp01high = []\n",
        "for i in range(10):\n",
        "  dp01low.append((s0low[i]-s1low[i]).to_numpy())\n",
        "  dp01med.append((s0med[i]-s1med[i]).to_numpy())\n",
        "  dp01high.append((s0high[i]-s1high[i]).to_numpy())\n",
        "\n",
        "for j in range(10):\n",
        "  for i in dp01low[j]:\n",
        "    if i < 0:\n",
        "      dp01low[j] = np.delete(dp01low[j], np.where(dp01low[j]==i))\n",
        "  for i in dp01med[j]:\n",
        "    if i < 0:\n",
        "      dp01med[j] = np.delete(dp01med[j], np.where(dp01med[j]==i))\n",
        "  for i in dp01high[j]:\n",
        "    if i < 0:\n",
        "      dp01high[j] = np.delete(dp01high[j], np.where(dp01high[j]==i))\n",
        "counter = 0\n",
        "for i in dp01med:\n",
        "\n",
        "  if any(i<0):\n",
        "    counter+=1\n",
        "\n",
        "print(counter)"
      ],
      "metadata": {
        "colab": {
          "base_uri": "https://localhost:8080/"
        },
        "id": "d9HhsjhYuMgT",
        "outputId": "3920274a-a697-40ea-f706-ab7c574ad2e5"
      },
      "execution_count": null,
      "outputs": [
        {
          "output_type": "stream",
          "name": "stdout",
          "text": [
            "0\n"
          ]
        }
      ]
    },
    {
      "cell_type": "code",
      "source": [
        "e01low = []\n",
        "e01med = []\n",
        "e01high = []\n",
        "for i in range(10):\n",
        "  e01low.append(((dp01low[i]/(0.46875*1.122))**(0.5)).std())\n",
        "  e01med.append(((dp01med[i]/(0.46875*1.122))**(0.5)).std())\n",
        "  e01high.append(((dp01high[i]/(0.46875*1.122))**(0.5)).std())\n",
        "\n",
        "print(e01low)\n",
        "print(e01med)\n",
        "print(e01high)"
      ],
      "metadata": {
        "colab": {
          "base_uri": "https://localhost:8080/"
        },
        "id": "W8r_2tugAAxv",
        "outputId": "244981d9-ad7d-404e-81ad-69f49b9c38d3"
      },
      "execution_count": null,
      "outputs": [
        {
          "output_type": "stream",
          "name": "stdout",
          "text": [
            "[0.2282804344686369, 0.21702037671120666, 0.23676949072284662, 0.2275122935515974, 0.15765404208271588, 0.21729407577268306, 0.23880532541644336, 0.260896824864597, 0.22292349635849648, 0.24213017247816265]\n",
            "[0.26414615467121166, 0.2048611276287107, 0.21980876674782157, 0.25342343358622044, 0.23195466242567425, 0.22165576836892598, 0.1727944962416527, 0.2318374649098729, 0.23323946733141576, 0.2945013313461748]\n",
            "[0.28072914580587427, 0.21832196489891834, 0.2534040733858367, 0.30589196422406323, 0.24303456432701406, 0.19158024157284134, 0.34878639048394944, 0.2976640051793517, 0.37690891416379957, 0.2870809528161134]\n"
          ]
        }
      ]
    },
    {
      "cell_type": "code",
      "execution_count": null,
      "metadata": {
        "id": "Jamewj0RTSZk",
        "outputId": "5976677d-8888-471f-9987-c7ab82d29b64",
        "colab": {
          "base_uri": "https://localhost:8080/",
          "height": 312
        }
      },
      "outputs": [
        {
          "output_type": "execute_result",
          "data": {
            "text/plain": [
              "Text(0.5, 1.0, 'Pressure difference vs angles')"
            ]
          },
          "metadata": {},
          "execution_count": 13
        },
        {
          "output_type": "display_data",
          "data": {
            "text/plain": [
              "<Figure size 432x288 with 1 Axes>"
            ],
            "image/png": "[encoded data removed]"
          },
          "metadata": {
            "needs_background": "light"
          }
        }
      ],
      "source": [
        "plt.scatter(x = angle, y = sensor5_pressure_low - sensor4_pressure_low, color='blue', label = \"low\")\n",
        "plt.scatter(x = angle, y = sensor5_pressure_med - sensor4_pressure_med, color='orange', label = \"med\")\n",
        "plt.scatter(x = angle, y = sensor5_pressure_high - sensor4_pressure_high, color='green', label = \"high\")\n",
        "plt.legend()\n",
        "plt.xlabel(\"Angle [deg]\")\n",
        "plt.ylabel(\"Pressure Difference [Pa]\")\n",
        "plt.title(\"Pressure difference vs angles\")"
      ]
    },
    {
      "cell_type": "code",
      "execution_count": null,
      "metadata": {
        "id": "kZyWxZwbTSZk"
      },
      "outputs": [],
      "source": [
        "deltaP54_low = (sensor5_pressure_low-sensor4_pressure_low)\n",
        "v54_low = (deltaP54_low/(0.46875*1.122))**(0.5)\n",
        "\n",
        "deltaP54_med = (sensor5_pressure_med-sensor4_pressure_med)\n",
        "v54_med = (deltaP54_med/(0.46875*1.122))**(0.5)\n",
        "\n",
        "deltaP54_high = (sensor5_pressure_high-sensor4_pressure_high)\n",
        "v54_high = (deltaP54_high/(0.46875*1.122))**(0.5)\n",
        "\n",
        "real_vel_low = np.array([0.965, 1.028, 1.073, 1.081, 0.948, 0.949, 0.994, 0.994, 0.989, 1.038])\n",
        "real_vel_med = np.array([1.303, 1.327, 1.305, 1.327, 1.332, 1.394, 1.376, 1.276, 1.300, 1.390])\n",
        "real_vel_high = np.array([1.949, 1.871, 1.733, 1.824, 1.711, 1.848, 1.840, 1.918, 2.013, 1.900])"
      ]
    },
    {
      "cell_type": "code",
      "execution_count": null,
      "metadata": {
        "id": "zt7fYRIiTSZl",
        "outputId": "92ab6e28-6c54-4b0a-fa18-3d834e138933",
        "colab": {
          "base_uri": "https://localhost:8080/",
          "height": 312
        }
      },
      "outputs": [
        {
          "output_type": "execute_result",
          "data": {
            "text/plain": [
              "Text(0.5, 1.0, 'Theoretical velocity and calculated velocity vs angle for low speed in chamber 4')"
            ]
          },
          "metadata": {},
          "execution_count": 15
        },
        {
          "output_type": "display_data",
          "data": {
            "text/plain": [
              "<Figure size 432x288 with 1 Axes>"
            ],
            "image/png": "[encoded data removed]"
          },
          "metadata": {
            "needs_background": "light"
          }
        }
      ],
      "source": [
        "plt.scatter(x = angle, y = v54_low, color='blue', label = \"Experimental\")\n",
        "plt.errorbar(x = angle, y = v54_low, yerr = e54low,capsize=5,ecolor = 'red',fmt = 'none')\n",
        "plt.scatter(x = angle, y = real_vel_low*np.cos(np.radians(angle)), color='black', label = \"Theoretical\")\n",
        "plt.legend()\n",
        "plt.xlabel(\"Angle [deg]\")\n",
        "plt.ylabel(\"Velocity [m/s]\")\n",
        "plt.title(\"Theoretical velocity and calculated velocity vs angle for low speed in chamber 4\")"
      ]
    },
    {
      "cell_type": "code",
      "execution_count": null,
      "metadata": {
        "id": "Q2nGb-1NTSZm",
        "outputId": "0e06acbe-a42a-4a0b-9b37-394bd3441247",
        "colab": {
          "base_uri": "https://localhost:8080/",
          "height": 312
        }
      },
      "outputs": [
        {
          "output_type": "execute_result",
          "data": {
            "text/plain": [
              "Text(0.5, 1.0, 'Theoretical velocity and calculated velocity vs angle for medium speed in chamber 4')"
            ]
          },
          "metadata": {},
          "execution_count": 16
        },
        {
          "output_type": "display_data",
          "data": {
            "text/plain": [
              "<Figure size 432x288 with 1 Axes>"
            ],
            "image/png": "[encoded data removed]"
          },
          "metadata": {
            "needs_background": "light"
          }
        }
      ],
      "source": [
        "plt.scatter(x = angle, y = v54_med, color='orange', label = \"Experimental\")\n",
        "plt.scatter(x = angle, y = real_vel_med*np.cos(np.radians(angle)), color='black', label = \"Theoretical\")\n",
        "plt.errorbar(x = angle, y = v54_med, yerr = e54med,capsize=5,ecolor = 'red',fmt = 'none')\n",
        "plt.legend()\n",
        "plt.xlabel(\"Angle [deg]\")\n",
        "plt.ylabel(\"Velocity [m/s]\")\n",
        "plt.title(\"Theoretical velocity and calculated velocity vs angle for medium speed in chamber 4\")"
      ]
    },
    {
      "cell_type": "code",
      "execution_count": null,
      "metadata": {
        "id": "YttQYWGPTSZm",
        "outputId": "29bf09a7-57e3-4f05-ee6d-ea8dcfe1f236",
        "colab": {
          "base_uri": "https://localhost:8080/",
          "height": 312
        }
      },
      "outputs": [
        {
          "output_type": "execute_result",
          "data": {
            "text/plain": [
              "Text(0.5, 1.0, 'Theoretical velocity and calculated velocity vs angle for high speed in chamber 4')"
            ]
          },
          "metadata": {},
          "execution_count": 17
        },
        {
          "output_type": "display_data",
          "data": {
            "text/plain": [
              "<Figure size 432x288 with 1 Axes>"
            ],
            "image/png": "[encoded data removed]"
          },
          "metadata": {
            "needs_background": "light"
          }
        }
      ],
      "source": [
        "plt.scatter(x = angle, y = v54_high, color='green', label = \"Experimental\")\n",
        "plt.scatter(x = angle, y = real_vel_high*np.cos(np.radians(angle)), color='black', label = \"Theoretical\")\n",
        "plt.errorbar(x = angle, y = v54_high, yerr = e54high,capsize=5,ecolor = 'red',fmt = 'none')\n",
        "plt.legend()\n",
        "plt.xlabel(\"Angle [deg]\")\n",
        "plt.ylabel(\"Velocity [m/s]\")\n",
        "plt.title(\"Theoretical velocity and calculated velocity vs angle for high speed in chamber 4\")"
      ]
    },
    {
      "cell_type": "code",
      "execution_count": null,
      "metadata": {
        "id": "XZ5l0VQfTSZn",
        "outputId": "623b6967-f50d-4231-d124-52fabb2caf58",
        "colab": {
          "base_uri": "https://localhost:8080/"
        }
      },
      "outputs": [
        {
          "output_type": "stream",
          "name": "stdout",
          "text": [
            "[0.28072915 0.21832196 0.25340407 0.34878639 0.29766401 0.37690891\n",
            " 0.28708095]\n",
            "[0.04180933 0.20079575 0.09337873 0.07657686 0.41595942 0.6379711\n",
            " 0.86907634]\n"
          ]
        }
      ],
      "source": [
        "angle_reversed_low = np.array([90, 85, 80, 75, 70, 65, 60, 55, 50, 45])\n",
        "angle_reversed_med = np.array([90, 85, 80, 75, 70, 65, 60, 55, 50, 45])\n",
        "angle_reversed_high = np.array([90, 85, 80, 75, 70, 65, 60, 55, 50, 45])\n",
        "\n",
        "real_vel_low_2 = np.array([0.965, 1.028, 1.073, 1.081, 0.948, 0.949, 0.994, 0.994, 0.989, 1.038])\n",
        "real_vel_med_2 = np.array([1.303, 1.327, 1.305, 1.327, 1.332, 1.394, 1.376, 1.276, 1.300, 1.390])\n",
        "real_vel_high_2 = np.array([1.949, 1.871, 1.733, 1.824, 1.711, 1.848, 1.840, 1.918, 2.013, 1.900])\n",
        "\n",
        "#low\n",
        "deltaP01_low = (sensor0_pressure_low-sensor1_pressure_low)\n",
        "#print(deltaP01_low)\n",
        "deltaP21_low = (sensor2_pressure_low-sensor1_pressure_low)\n",
        "#print(deltaP21_low)\n",
        "\n",
        "for i in deltaP01_low:\n",
        "    if i < 0:\n",
        "        real_vel_low_2 = np.delete(real_vel_low_2, np.where(deltaP01_low == i))\n",
        "        angle_reversed_low = np.delete(angle_reversed_low, np.where(deltaP01_low == i))\n",
        "        e01low = np.delete(e01low,np.where(deltaP01_low == i))\n",
        "        deltaP01_low = np.delete(deltaP01_low, np.where(deltaP01_low == i))\n",
        "\n",
        "v01_low = (deltaP01_low/(0.46875*1.122))**(0.5)\n",
        "\n",
        "#medium\n",
        "deltaP01_med = (sensor0_pressure_med-sensor1_pressure_med)\n",
        "\n",
        "for i in deltaP01_med:\n",
        "    if i < 0:\n",
        "        real_vel_med_2 = np.delete(real_vel_med_2, np.where(deltaP01_med == i))\n",
        "        angle_reversed_med = np.delete(angle_reversed_med, np.where(deltaP01_med == i))\n",
        "        e01med = np.delete(e01med,np.where(deltaP01_med == i))\n",
        "        deltaP01_med = np.delete(deltaP01_med, np.where(deltaP01_med == i))\n",
        "\n",
        "v01_med = (deltaP01_med/(0.46875*1.122))**(0.5)\n",
        "\n",
        "#high\n",
        "deltaP01_high = (sensor0_pressure_high-sensor1_pressure_high)\n",
        "\n",
        "for i in deltaP01_high:\n",
        "    if i < 0:\n",
        "        real_vel_high_2 = np.delete(real_vel_high_2, np.where(deltaP01_high == i))\n",
        "        angle_reversed_high = np.delete(angle_reversed_high, np.where(deltaP01_high == i))\n",
        "        e01high = np.delete(e01high,np.where(deltaP01_high == i))\n",
        "        deltaP01_high = np.delete(deltaP01_high, np.where(deltaP01_high == i))\n",
        "\n",
        "\n",
        "v01_high = (deltaP01_high/(0.46875*1.122))**(0.5)\n",
        "print(e01high)\n",
        "print(deltaP01_high)"
      ]
    },
    {
      "cell_type": "code",
      "source": [
        "print(e01low)\n",
        "print(e01med)\n",
        "print(e01high)"
      ],
      "metadata": {
        "colab": {
          "base_uri": "https://localhost:8080/"
        },
        "id": "jfsC68IxGORL",
        "outputId": "90a12a28-1198-43fd-b744-a37d503773b5"
      },
      "execution_count": null,
      "outputs": [
        {
          "output_type": "stream",
          "name": "stdout",
          "text": [
            "[0.22828043 0.21702038 0.23676949 0.22751229 0.23880533 0.26089682\n",
            " 0.2229235  0.24213017]\n",
            "[0.26414615 0.25342343 0.23183746 0.23323947 0.29450133]\n",
            "[0.28072915 0.21832196 0.25340407 0.34878639 0.29766401 0.37690891\n",
            " 0.28708095]\n"
          ]
        }
      ]
    },
    {
      "cell_type": "code",
      "execution_count": null,
      "metadata": {
        "id": "j6WJ7WMlTSZo",
        "outputId": "6f910997-9b07-4538-8425-00d4b1990d51",
        "colab": {
          "base_uri": "https://localhost:8080/",
          "height": 312
        }
      },
      "outputs": [
        {
          "output_type": "execute_result",
          "data": {
            "text/plain": [
              "Text(0.5, 1.0, 'Theoretical velocity vs experimental velocity for low speed in chamber 1')"
            ]
          },
          "metadata": {},
          "execution_count": 19
        },
        {
          "output_type": "display_data",
          "data": {
            "text/plain": [
              "<Figure size 432x288 with 1 Axes>"
            ],
            "image/png": "[encoded data removed]"
          },
          "metadata": {
            "needs_background": "light"
          }
        }
      ],
      "source": [
        "plt.scatter(x = angle_reversed_low, y = v01_low, color='blue', label = \"Experimental\")\n",
        "plt.scatter(x = angle_reversed_low, y = real_vel_low_2*np.cos(np.radians(angle_reversed_low)), color='black', label = \"Theoretical\")\n",
        "plt.errorbar(x = angle_reversed_low, y = v01_low, yerr = e01low,capsize=5,ecolor = 'red',fmt = 'none')\n",
        "plt.legend()\n",
        "\n",
        "plt.xlabel(\"Angle [deg]\")\n",
        "plt.ylabel(\"Calculated Velocity [m/s]\")\n",
        "plt.title(\"Theoretical velocity vs experimental velocity for low speed in chamber 1\")"
      ]
    },
    {
      "cell_type": "code",
      "execution_count": null,
      "metadata": {
        "id": "1VnWo0o8TSZp",
        "outputId": "1cea623a-b40e-409d-a46b-ceb1bbffb1e0",
        "colab": {
          "base_uri": "https://localhost:8080/",
          "height": 312
        }
      },
      "outputs": [
        {
          "output_type": "execute_result",
          "data": {
            "text/plain": [
              "Text(0.5, 1.0, 'Theoretical velocity vs experimental velocity for medium speed in chamber 1')"
            ]
          },
          "metadata": {},
          "execution_count": 20
        },
        {
          "output_type": "display_data",
          "data": {
            "text/plain": [
              "<Figure size 432x288 with 1 Axes>"
            ],
            "image/png": "[encoded data removed]"
          },
          "metadata": {
            "needs_background": "light"
          }
        }
      ],
      "source": [
        "plt.scatter(x = angle_reversed_med, y = v01_med, color='orange', label = \"Experimental\")\n",
        "plt.scatter(x = angle_reversed_med, y = real_vel_med_2*np.cos(np.radians(angle_reversed_med)), color='black', label = \"Theoretical\")\n",
        "plt.errorbar(x = angle_reversed_med, y = v01_med, yerr = e01med,capsize=5,ecolor = 'red',fmt = 'none')\n",
        "plt.legend()\n",
        "plt.xlabel(\"Angle [deg]\")\n",
        "plt.ylabel(\"Calculated Velocity [m/s]\")\n",
        "plt.title(\"Theoretical velocity vs experimental velocity for medium speed in chamber 1\")"
      ]
    },
    {
      "cell_type": "code",
      "execution_count": null,
      "metadata": {
        "id": "_v3AYw0NTSZp",
        "outputId": "ae1772d3-e48d-4c43-91f9-bd829fb8eda3",
        "colab": {
          "base_uri": "https://localhost:8080/",
          "height": 312
        }
      },
      "outputs": [
        {
          "output_type": "execute_result",
          "data": {
            "text/plain": [
              "Text(0.5, 1.0, 'Theoretical velocity vs experimental velocity for high speed in chamber 1')"
            ]
          },
          "metadata": {},
          "execution_count": 21
        },
        {
          "output_type": "display_data",
          "data": {
            "text/plain": [
              "<Figure size 432x288 with 1 Axes>"
            ],
            "image/png": "[encoded data removed]"
          },
          "metadata": {
            "needs_background": "light"
          }
        }
      ],
      "source": [
        "plt.scatter(x = angle_reversed_high, y = v01_high, color='green', label = \"Experimental\")\n",
        "plt.scatter(x = angle_reversed_high, y = real_vel_high_2*np.cos(np.radians(angle_reversed_high)), color='black', label = \"Theoretical\")\n",
        "plt.errorbar(x = angle_reversed_high, y = v01_high, yerr = e01high,capsize=5,ecolor = 'red',fmt = 'none')\n",
        "plt.legend()\n",
        "plt.xlabel(\"Angle [deg]\")\n",
        "plt.ylabel(\"Calculated Velocity [m/s]\")\n",
        "plt.title(\"Theoretical velocity vs experimental velocity for high speed in chamber 1\")"
      ]
    },
    {
      "cell_type": "code",
      "execution_count": null,
      "metadata": {
        "id": "KDyg_YKxTSZq"
      },
      "outputs": [],
      "source": []
    }
  ],
  "metadata": {
    "kernelspec": {
      "display_name": "Python 3",
      "language": "python",
      "name": "python3"
    },
    "language_info": {
      "codemirror_mode": {
        "name": "ipython",
        "version": 3
      },
      "file_extension": ".py",
      "mimetype": "text/x-python",
      "name": "python",
      "nbconvert_exporter": "python",
      "pygments_lexer": "ipython3",
      "version": "3.8.8"
    },
    "colab": {
      "provenance": [],
      "toc_visible": true,
      "include_colab_link": true
    }
  },
  "nbformat": 4,
  "nbformat_minor": 0
}
